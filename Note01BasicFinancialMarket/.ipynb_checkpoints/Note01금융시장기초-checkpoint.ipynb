{
 "cells": [
  {
   "cell_type": "markdown",
   "metadata": {},
   "source": [
    "# 1. 금융투자상품"
   ]
  },
  {
   "cell_type": "markdown",
   "metadata": {},
   "source": [
    "- 자본시장과 금융투자업에 관한 법률(약칭 자본시장법)에 따르면 “금융투자상품”이란 이익을 얻거나 손실을 회피할 목적으로 현재 또는 장래의 특정 시점에 금전, 그 밖의 재산적 가치가 있는 것을 지급하기로 약정함으로써 취득하는 권리로서, **투자성이 있는 것**을 의미합니다.   \n",
    "\n",
    "\n",
    "- 위에서 정의되는 투자성이란 권리를 취득하기 위하여 지급하였거나 지급하여야 할 금전등의 총액이 그 권리로부터 회수하였거나 회수할 수 있는 금전등의 총액을 초과하게 될 위험을 뜻합니다. 간단히 말하면 **투자성은 원본손실가능성**을 뜻합니다."
   ]
  },
  {
   "cell_type": "markdown",
   "metadata": {},
   "source": [
    "## 1.1 증권과 파생상품"
   ]
  },
  {
   "cell_type": "markdown",
   "metadata": {},
   "source": [
    "- 자본시장법에서 금융투자상품은 **추가지급의무**에 따라 증권과 파생상품으로 분류됩니다.\n",
    "\n",
    "\n",
    "- 여기서 **추가지급의무**는 원본대비 손실률이 100% 초과 가능성을 의미합니다.\n",
    "\n",
    "\n",
    "- 따라서, **원본대비 손실률이 100% 이하인 경우**를 **증권**이라 하고, **원본대비 손실률이 100% 초과 가능성이 있는 경우**를 **파생상품**이라 정의합니다."
   ]
  },
  {
   "cell_type": "markdown",
   "metadata": {},
   "source": [
    "<center>\n",
    "    \n",
    "<img src=\"./image/금융상품.png\" width=\"700px\" height=\"400px\">\n",
    "    \n",
    "</center>"
   ]
  },
  {
   "cell_type": "markdown",
   "metadata": {},
   "source": [
    "### 1.1.1 증권의 분류"
   ]
  },
  {
   "cell_type": "markdown",
   "metadata": {},
   "source": [
    "- 자본시장법상 증권은 6가지로 분류됩니다.\n",
    "    1. 채무증권 : 국채, 지방채, 특수채, 사채권, 기업어음증권, 그 밖에 유사한 것으로 지급청구권이 표시된 것을 의미합니다.\n",
    "    2. 지분증권 : 주권, 신주인수권이 표시된 것, 법률에 의하여 직접 설립된 법인이 발행한 출자증권, 「상법」에 따른 합자회사ㆍ유한책임회사ㆍ유한회사ㆍ합자조합ㆍ익명조합의 출자지분, 그 밖에 이와 유사한 것으로서 출자지분 또는 출자지분을 취득할 권리가 표시된 것을 말합니다. 간단히 **기업의 자본에 투자를 하는 것**으로 이해가 가능합니다.\n",
    "    3. 수익증권 : 금전신탁계약에 의한 수익권이 표시된 수익증권, 투자신탁을 설정한 집합투자업자가 투자신탁의 수익권을 균등하게 분할하여 표시한 수익증권, 그 밖에 이와 유사한 것으로서 출자지분이 표시된 것을 의미합니다. 간단히 **대중으로부터 자금을 모아 펀드를 만들때 펀드에 투자한 투자자들에게 출자비율에 따라 나눠주는 권리증서** 정도로 이해가 가능합니다.\n",
    "    4. 투자계약증권 : 타인간의 공동사업에 금전 등을 투자하고 주로 타인이 수행한 공동사업의 결과에 따른 손익을 귀속 받는 계약상의 권리가 표시된 것을 의미합니다.\n",
    "    5. 파생결합증권 :  기초자산의  가격ㆍ이자율ㆍ지표ㆍ단위 또는 이를 기초로 하는 지수 등의 **변동과 연계**하여 미리 정하여진 방법에 따라 지급하거나 회수하는 금전등이 결정되는 권리가 표시된 것을 말합니다.\n",
    "    6. 증권예탁증권 : 위에서 언급한 5가지 형태의 증권들을 예탁받은 자가 그 증권이 발행된 국가 외의 국가에서 발행한 것으로 그 예탁 받은 증권에 관련된 권리가 표시된 것을 의미합니다."
   ]
  },
  {
   "cell_type": "markdown",
   "metadata": {},
   "source": [
    "### 1.1.2 파생상품의 분류\n",
    "- 파생상품은 3가지로 분류됩니다    \n",
    "    1. 선도(Forward) : 기초자산이나 기초자산의 가격 등에 의해 산출된 금전 등을 **장래의 특정시점에 인도할 것을 약정**하는 계약입니다.\n",
    "    2. 옵션(Option) : 당사자의 어느 한쪽의 의사표시에 의하여 기초자산의 가격 등에 의해 산출된 금전 등을 수수하는 거래를 성립시킬 수 있는 **권리를 부여하는 계약**입니다.\n",
    "    3. 스왑(Swap) : 장래의 일정기간동안 미리 정한 가격으로 기초자산의 가격 등에 의해 산출된 금액을 **교환할 것을 약정하는 계약**입니다."
   ]
  },
  {
   "cell_type": "markdown",
   "metadata": {},
   "source": [
    "# 2. 기대효용이론"
   ]
  },
  {
   "cell_type": "markdown",
   "metadata": {},
   "source": [
    "## 2.1 불확실성(Uncertainty)와 Lottery"
   ]
  },
  {
   "cell_type": "markdown",
   "metadata": {},
   "source": [
    "uncertain하다는 것은, 즉 불확실성이 존재한다는 것은 **발생 가능한 outcome이 2개 이상**임을 의미합니다.\n",
    "\n",
    "이 불확실성 하에서 경제주체가 선택하는 대상이 바로 lottery입니다.\n",
    "\n",
    "lottery는 outcome과 outcome이 나타날 확률의 묶음으로 서술될 수 있습니다. 예를 들자면\n",
    "\n",
    "$$ L_1=(100, \\frac{1}{2} \\ ;   -100, \\frac{1}{2})$$\n",
    "\n",
    "와 같은 형태로 서술이 가능합니다."
   ]
  },
  {
   "cell_type": "markdown",
   "metadata": {},
   "source": [
    "## 2.2 폰 노이만-모겐스턴 기대효용함수(Von Neumann–Morgenstern utility function)"
   ]
  },
  {
   "cell_type": "markdown",
   "metadata": {},
   "source": [
    "lottery에 대한 선호를 나타내기 위해 **lottery의 평균 outcome의 크기를 비교**하는 방법을 고려해 볼 수 있을 것입니다. 즉, 다음과 같은 방법을 고려할 수 있습니다. $$ \\; if \\; E[L_1]>=E[L_2] \\; then \\; L_1 >= L_2$$\n",
    "\n",
    "하지만 이 방법은 문제를 가지고 있습니다. 이 문제가 바로 St. Petersburg의 Paradox입니다.\n",
    "\n",
    "따라서 lottery에 대한 선호를 표기하기 위해 등장한 개념이 바로 폰 노이만-모겐스턴 기대효용함수입니다.\n",
    "\n",
    "폰 노이만-모겐스턴 기대효용함수는 다음과 같은 꼴을 가지고 있습니다. $$ L=(c_1, p_1 \\ ; \\ c_2, p_2 \\ ; \\ \\dots \\ ; \\ c_N, p_n) \\ 에 \\ 대해 \\; U(L) = p_1u(c_1)+ p_2u(c_2)+\\dots+p_Nu(c_N) $$\n",
    "\n",
    "여기서 $u(x)$를 베르누이 function이라고 부릅니다.\n",
    "\n",
    "즉, 폰 노이만-모겐스턴 기대효용함수는 발생 가능한 outcome에 대한 **베르누이 utility의 expected value를 계산**하는 함수라고 할 수 있습니다."
   ]
  },
  {
   "cell_type": "markdown",
   "metadata": {},
   "source": [
    "## 2.3 위험에 대한 태도"
   ]
  },
  {
   "cell_type": "markdown",
   "metadata": {},
   "source": [
    "### 2.3.1 위험회피적(risk averion), 위험중립적(risk neutral), 위험선호적(risk loving) "
   ]
  },
  {
   "cell_type": "markdown",
   "metadata": {},
   "source": [
    "- 어떤 사람은 도박을 좋아할 수 있습니다. 모험을 좋아하는 사람도 있습니다. 어떤 사람은 도박을 싫어하며, 위험한 모험을 꺼리는 사람도 있을 것입니다. 이런 리스크에 대한 태도는 크게 3가지로 나뉩니다\n",
    "    1. 위험선호적(risk loving) : lottery를 certain goods보다 더 좋아합니다.\n",
    "    2. 위험중립적(risk neutral) : lottery와 certain goods는 무차별합니다.\n",
    "    3. 위험회피적(risk aversion) : lottery 대신 certain goods를 더 좋아합니다.\n",
    "    \n",
    "    \n",
    "- 경제학에서는 위험회피적 인간을 가정하는 것이 일반적입니다. 경우에 따라 위험중립적 인간을 가정하기도 합니다. \n",
    "\n",
    "\n",
    "- 리스크에 대한 태도를 결정짓는 것은 베르누이 utility function의 형태에 의존합니다. \n",
    "    1. 만일 베르누이 utility function이 **convex**하다면 **위험선호적**이 됩니다.\n",
    "    2. 만일 베르누이 utility function이 **linear**하다면 **위험중립적**이 됩니다.\n",
    "    3. 만일 베르누이 utility function이 **concave**하다면 **위험회피적**이 됩니다."
   ]
  },
  {
   "cell_type": "markdown",
   "metadata": {},
   "source": [
    "### 2.3.2 리스크 선호에 대한 측정"
   ]
  },
  {
   "cell_type": "markdown",
   "metadata": {},
   "source": [
    "#### 2.3.2.1 확실성 등가(Certainty equivalent)"
   ]
  },
  {
   "cell_type": "markdown",
   "metadata": {},
   "source": [
    "확실성 등가란, 의사결정자에게 lottery $L$을 지급하는 것과 특정 금액 $CE(L)$를 받는게 무차별하게 해 주는 금액을 의미합니다.\n",
    "\n",
    "예를 들자면, $ L=(100, \\frac{1}{2} \\ ;   -100, \\frac{1}{2}) \\ $을 받는 대신 $x$원을 받는 것을 선호한다면, 이 $x$가 바로 확실성 등가가 됩니다. \n",
    "\n",
    "확실성 등가 $CE(L)$은 $L$과 $u$의 함수인 $C(L,u)$로 표현이 가능합니다. (단, $u$는 베르누이 utility function) 따라서  $u(CE(L))=u(C(L,u))$이 성립하게 됩니다. \n",
    "\n",
    "그리고 $CE(L)$의 정의에 따라 $u(CE(L))= \\int u(x)dF(x)$가 성립하므로 $u(CE(L))=u(C(L,u))=\\int u(x)dF(x)$가 성립하게 됩니다. \n",
    "\n",
    "즉, 어떤 lottery에 대한 expected utility와 동일한 utility를 제공하는 확실한 소득이 바로 확실성 등가입니다. (단, $F$는 lottery L의 누적확률분포함수)\n",
    "\n",
    "이 확실성 등가는 베르누이 utility function에 따라 달라지게 됩니다."
   ]
  },
  {
   "cell_type": "markdown",
   "metadata": {},
   "source": [
    "<center>\n",
    "    \n",
    "<img src=\"./image/확실성등가.webp\" width=\"750px\" height=\"350px\">\n",
    "    \n",
    "</center>"
   ]
  },
  {
   "cell_type": "markdown",
   "metadata": {},
   "source": [
    "#### 2.3.2.2 위험 프리미엄(Risk premium)"
   ]
  },
  {
   "cell_type": "markdown",
   "metadata": {},
   "source": [
    "- 위험 프리미엄(Risk premium) $\\ \\Pi(L) \\ $ 는 $ \\ \\Pi(L) \\equiv EV(L)-CE(L) \\ $ 로 정의됩니다. 여기서 $\\ EV(L)\\ $는 lottery L이 제공하는 기대 이익이며, $CE(L)$은 lottery L에 대한 확실성 등가입니다.\n",
    "\n",
    "\n",
    "- 이 위험 프리미엄을 이용해서 리스크에 대한 태도를 재정의 할 수 있습니다.\n",
    "    1. 위험선호적(risk loving) : **위험 프리미엄이 음수**입니다.\n",
    "    2. 위험중립적(risk neutral) : **위험 프리미엄이 0**입니다\n",
    "    3. 위험회피적(risk aversion) : **위험 프리미엄이 양수**입니다.\n"
   ]
  },
  {
   "cell_type": "markdown",
   "metadata": {},
   "source": [
    "# 3. 채권"
   ]
  },
  {
   "cell_type": "markdown",
   "metadata": {},
   "source": [
    "- 채권이란 일정 기간 후 원금상환 및 이자지급조건이 발행시 확정되어 있는 차용증서를 의미합니다. 쉽게 말해 **돈을 빌려준 증거**라고 할 수 있습니다.\n",
    "\n",
    "\n",
    "- 채권은 앞서 서술했듯 발행주체에 따라 국공채, 금융채, 회사채로 분류됩니다. \n",
    "\n",
    "\n",
    "- 채권은 이자 지급 형태에 따라 3가지로 구분이 가능합니다.\n",
    "    1. 무이표채(Zero Coupon Bond) : 만기에 **액면가(face value)를 단 한번 지급**하는 형태를 가지고 있습니다.\n",
    "    2. 이표채(Coupon Bond) : **만기까지 이자(Coupon)을 지급**하고, 만기일에 액면가와 이자를 지급하는 형태를 가지고 있습니다.\n",
    "    3. 주택담보대출채권(Mortgage) : 만기까지 이자(Coupon)을 지급하나, face value 지급은 없는 형태를 가지고 있습니다.\n",
    "    \n",
    "    \n",
    "- 이외에도 만기가 정해지지 않은 경우(ex : 연금)나 물가와 연동되어 이자율이 변동하는 채권(물가연동채권) 등이 존재합니다."
   ]
  },
  {
   "cell_type": "markdown",
   "metadata": {},
   "source": [
    "<center>\n",
    "    \n",
    "<img src=\"./image/이표채.jpg\" width=\"350px\" height=\"350px\">\n",
    "    \n",
    "</center>"
   ]
  },
  {
   "cell_type": "markdown",
   "metadata": {},
   "source": [
    "## 3.1 채권의 가격결정론"
   ]
  },
  {
   "cell_type": "markdown",
   "metadata": {},
   "source": [
    "### 3.1.1 Yield To Maturity"
   ]
  },
  {
   "cell_type": "markdown",
   "metadata": {},
   "source": [
    "- 만기 수익률(Yield to Maturity)이란 채권을 만기까지 보유하였을때 얻을 수 있는 수익률을 의미합니다. 이때, 모든 수익은 만기수익률(YTM)과 동일한 수익률로 재투자되어야만 합니다. \n",
    "\n",
    "\n",
    "- 이는 채권의 **미래 현금흐름의 현재가치의 총합과 채권가격을 같게 해 주는 할인률**이라고 할 수 있습니다.\n",
    "\n",
    "\n",
    "- 국채와 같이 신뢰도가 높은 채권의 만기수익률은 작은 경향을 보이며, 회사채와 같이 비교적 신뢰가 떨어지는 채권의 만기수익률은 큰 경향을 보입니다.\n",
    "\n",
    "\n",
    "- 만기수익률과 채권가격은 **역의 관계**를 갖습니다. 즉, 만기수익률이 커지면 채권가격은 하락하고 만기수익률이 작아지면 채권가격은 상승합니다."
   ]
  },
  {
   "cell_type": "markdown",
   "metadata": {},
   "source": [
    "### 3.1.2 채권가격결정방법"
   ]
  },
  {
   "cell_type": "markdown",
   "metadata": {},
   "source": [
    "- 할인채의 경우, 액면가가 F이고 만기수익률이 i이며 투자 기간이 T년인 할인채라면 이 할인채의 현재 가격은 다음과 같이 결정됩니다.\n",
    "<center>\n",
    "$$ P=\\frac{F}{(1+i)^T} $$\n",
    "</center>"
   ]
  },
  {
   "cell_type": "markdown",
   "metadata": {},
   "source": [
    "- 이표채의 경우, 액면가가 F이고 만기수익률이 i이며 투자 기간이 T년이고 동일한 이자가 C로 주어질 때 이 이표채의 가격은 다음과 같이 결정됩니다.\n",
    "<center>\n",
    "$$ P=\\sum_{t=1}^{T} \\frac{C}{(1+i)^t}+\\frac{F}{(1+i)^T} $$\n",
    "</center>"
   ]
  },
  {
   "cell_type": "markdown",
   "metadata": {},
   "source": [
    "## 3.2 채권의 특성"
   ]
  },
  {
   "cell_type": "markdown",
   "metadata": {},
   "source": [
    "### 3.2.1 채권의 Duration"
   ]
  },
  {
   "cell_type": "markdown",
   "metadata": {},
   "source": [
    "채권의 Duration이란 이자율의 변화율에 대한 채권가격의 변화율, 즉 이자율에 대한 채권가격의 탄력성을 의미합니다. 식으로는 다음과 같습니다.\n",
    "<center>\n",
    "$$ D=-\\frac{ \\frac{ dP }{ P } } { \\frac{ dR }{ R } } = -\\frac{dP}{P}\\frac{R}{dR}$$\n",
    "</center> \n",
    "\n",
    "정의에 의해 duration을 계산해보면 다음과 같은 결과를 얻게 됩니다.\n",
    "\n",
    "<center>\n",
    "$$ D=\\frac{ \\sum_{t=1}^{T} PV(CF_t) \\times \\tau_t } {P } = \\frac{ \\sum_{t=1}^{T} \\frac{ \\tau_t \\times C} {(R)^t} +  \\frac{F}{(1+i)^T} \\times \\tau_T}{P}$$\n",
    "</center> \n",
    "\n",
    "\n",
    "이 듀레이션을 Macaulay duration이라고 부릅니다. 여기서\n",
    "    \n",
    "1. $PV(CF_t)$ : 현금흐름의 현재가치\n",
    "2. $\\tau_t$ : 시간 t에서의 시간의 길이를 연도 단위로 표기한 것\n",
    "3. $C$ : 이자\n",
    "4. $T$ : 만기일까지 남은 기간 의미(배당을 하는 기간을 의미한다)\n",
    "5. $F$ : 만기시 지급하는 액면가\n",
    "6. $P$ : 채권가격\n",
    "7. $R$ : 이자율($1+만기수익률$을 의미한다)\n",
    "    \n",
    "위의 Macaulay duration에서 R을 나눈 값, 즉 $$ \\frac{D}{R}=-{\\frac{dP}{P}}\\frac{1}{dR}$$을 수정 듀레이션(Modified duration)이라고 합니다"
   ]
  },
  {
   "cell_type": "markdown",
   "metadata": {},
   "source": [
    "### 3.2.2 채권의 Convexity"
   ]
  },
  {
   "cell_type": "markdown",
   "metadata": {},
   "source": [
    "채권 가격은 이자율에 대해 비선형적인 형태를 가지고 있습니다. 이를 간편하게 보기 위해, 채권 가격 $P$를 이자율 $r$에 대한 단변수함수 $P=f(r)$라 가정하고 테일러 전개를 사용해보겠습니다.\n",
    "\n",
    "테일러 전개는 $$ f(\\hat{x})=f(a)+\\frac{f'(a)}{1!}(\\hat{x}-a)+\\frac{f''(a)}{2!}(\\hat{x}-a)^2+\\frac{f'''(a)}{3!}(\\hat{x}-a)^3+\\dots = \\sum_{n=0}^{\\infty}\\frac{f^ {(n)}(a)}{n!}(\\hat{x}-a)^n$$ 로 나타나며, 위 식에서 $\\hat{x}=x+h,  a=x $으로 치환해보면 $$ f(x+h)=f(x)+\\frac{f'(x)}{1!}h+\\frac{f''(x)}{2!}h^2+\\frac{f'''(x)}{3!}h^3+\\dots = \\sum_{n=0}^{\\infty}\\frac{f^ {(n)}(x)}{n!}h^n$$ 의 꼴이 됨을 알 수 있습니다.\n",
    "    \n",
    "두번째 식에서 $x=r, h=\\Delta r$로 두게 되면 $$ f(r+\\Delta r)=f(r)+\\frac{f'(r)}{1!}\\Delta r+\\frac{f''(x)}{2!}{\\Delta r}^2+\\frac{f'''(x)}{3!}{\\Delta r}^3+\\dots $$이 성립하며,$f(r)$을 좌변으로 이항한 뒤 양변을 f(r)로 나누게 되면$$ \\frac{f(r+\\Delta r)-f(r)}{f(r)}=\\frac{\\frac{f'(r)}{1!}\\Delta r+\\frac{f''(x)}{2!}{\\Delta r}^2+\\frac{f'''(x)}{3!}{\\Delta r}^3+\\dots}{f(r)} $$이라는 결과를 얻게 됩니다. 따라서 좌변은 이자율이 $\\Delta r$ 만큼 변했을 때의 수익률이 되게 됩니다. \n",
    "\n",
    "우변을 2차식까지 근사하면 $$ \\frac{\\frac{f'(r)}{1!}\\Delta r+\\frac{f''(x)}{2!}{\\Delta r}^2}{f(r)}= \\frac{f'(r)}{f(r)}\\Delta r + \\frac{f''(r) }{2}\\frac{{\\Delta r}^2}{f(r)}$$을 얻게 됩니다. 이때, 우변을 잘 보면 첫 번째 항은 $$ \\frac{f'(r)}{f(r)}\\Delta r = \\frac{df(r)}{dr} \\frac{\\Delta r}{f(r)} = \\frac{df(r)}{f(r)} \\frac{\\Delta r}{dr}$$ 이 나오게 되는데, 여기서 $ \\frac{df(r)}{f(r)} \\frac{\\Delta r}{dr} $ 는 바로 modified duration $ -D/r $ 에 $ \\Delta r $ 을 곱한 결과라는 사실을 알 수 있습니다. 따라서 Duration은 채권 가격을 1차 테일러 근사한 결과라는 사실을 알 수 있습니다."
   ]
  },
  {
   "cell_type": "markdown",
   "metadata": {},
   "source": [
    "<center>\n",
    "    \n",
    "<img src=\"./image/듀레이션.jpg\" width=\"700px\" height=\"350px\">\n",
    "    \n",
    "</center>"
   ]
  },
  {
   "cell_type": "markdown",
   "metadata": {},
   "source": [
    "하지만 채권가격은 비선형이기 때문에, 이자율의 변화에 따른 채권가격의 변화를 추적할 때 선형근사인 Duration만을 사용하는 것은 위 그림과 같이 큰 오차를 야기합니다. 따라서 이를 보정하기 위해 2차 근사항까지 사용하게 되는데, 이를 Convexity(볼록성)이라고 부릅니다. 볼록성을 수식으로 정의하면 다음과 같습니다.\n",
    "\n",
    "$$Convexity \\equiv \\frac{1}{f(r)} \\frac{d^2f(r)}{{dr}^2} $$\n",
    "\n",
    "따라서 2차 테일러 근사식\n",
    "$$ \\frac{f(r+\\Delta r)-f(r)}{f(r)}=\\frac{f'(r)}{f(r)}\\Delta r + \\frac{f''(r) }{2}\\frac{{\\Delta r}^2}{f(r)}$$ \n",
    "\n",
    "에서 이자율이 변할 때 채권가격의 변화율은 다음과 같이 결정됨을 알 수 있습니다.   \n",
    "\n",
    "$$ \\frac{f(r+\\Delta r)-f(r)}{f(r)}=\\frac{\\Delta f(r)}{f(r)}=-M\\times\\Delta r + \\frac{C}{2}\\times{\\Delta r}^2$$\n",
    "\n",
    "여기서 $M$은 수정 듀레이션을, $C$는 볼록성을 뜻합니다"
   ]
  },
  {
   "cell_type": "markdown",
   "metadata": {},
   "source": [
    "# 4. 주식"
   ]
  },
  {
   "cell_type": "markdown",
   "metadata": {},
   "source": [
    "- 주식은 주식회사에 출자를 한 주주가 주주로서 회사에 대해 가지는 법률상의 권리와 의무의 단위입니다. 간단하게 **주식은 회사에 대한 소유권**이라고 이해할 수 있습니다. 또한 주식은 **잉여자본에 대한 청구권**으로도 이해할 수 있습니다.\n",
    "\n",
    "\n",
    "- 주식을 보유한 주주는 유한 책임(Limited liability)을 가집니다. 즉, 주주는 자신이 출자한 양 이상의 책임을 지지 않습니다."
   ]
  },
  {
   "cell_type": "markdown",
   "metadata": {},
   "source": [
    "## 4.1 주식의 가격결정론"
   ]
  },
  {
   "cell_type": "markdown",
   "metadata": {},
   "source": [
    "### 4.1.1 배당할인모형(Dividend Discount Model, DDM)"
   ]
  },
  {
   "cell_type": "markdown",
   "metadata": {},
   "source": [
    "주식을 보유할 때 오는 손익은 배당과 주식의 가치 변동에서 오게 됩니다. 더 정확히 표현하자면 시점 t에서 주식에 1기동안 투자했을때 기대 수익률$1+R$은 $$1+R=\\frac{E_t[P_{t+1}]+E_t[D_{t+1}]}{P_t}$$로 주어집니다.\n",
    "\n",
    "\n",
    "이제 기대 수익률 R이 시간에 대해 불변하고 expectation $E_t$를 편의를 위해 빼보겠습니다. 위 식을 변형하면 $$P_t=\\frac{P_{t+1}+D_{t+1}}{1+R}$$가 성립합니다. 그리고 이 식은 다음 기에도 성립해야 하기 때문에 $$P_{t+1}=\\frac{P_{t+2}+D_{t+2}}{1+R}$$ 또한 성립해야 합니다. 따라서 $$P_t=\\frac{P_{t+1}+D_{t+1}}{1+R}= \\frac{\\frac{P_{t+2}+D_{t+2}}{1+R}+D_{t+1}}{1+R} = \\frac{P_{t+2}}{(1+R)^2}+\\frac{D_{t+2}}{(1+R)^2}+\\frac{D_{t+1}}{(1+R)}$$이 성립하게 됩니다. 그리고 이 다음 기에도 동일한 식이 성립하므로 $$P_{t+2}=\\frac{P_{t+3}+D_{t+3}}{1+R}$$이 성립하고, 이를 기존의 $P_t$ 식에 대입해 정리하면 $$P_t= \\frac{P_{t+3}}{(1+R)^3}+\\frac{D_{t+3}}{(1+R)^3}+\\frac{D_{t+2}}{(1+R)^2}+\\frac{D_{t+1}}{(1+R)}$$이 성립하게 됩니다. 이를 T 기간 동안에 대해 구해보면 $$P_t=\\sum_{i=1}^{T}\\frac{D_{t+i}}{(1+R)^i} + \\frac{P_{t+T}}{(1+R)^T}$$라는 결과를 얻게 되고 이를 무한히 반복하게 되면 $$P_t=\\sum_{i=1}^{\\infty}\\frac{D_{t+i}}{(1+R)^i}$$가 성립하게 됩니다. 이를 배당할인모형이라 부릅니다."
   ]
  },
  {
   "cell_type": "markdown",
   "metadata": {},
   "source": [
    "### 4.1.2 Gordon의 성장 모델"
   ]
  },
  {
   "cell_type": "markdown",
   "metadata": {},
   "source": [
    "Gordon의 성장 모델은 위 배당할인모형을 기본으로 합니다. 여기에 기존에는 $\\{D_n\\}_{n \\in [t,T]}$였던 배당이 $D_{t+1}=(1+G)D_t$라는 일정한 증가율을 가진다는 가정을 더한 결과입니다.\n",
    "\n",
    "\n",
    "따라서 위 배당할인모형의 결론이었던$$P_t=\\sum_{i=1}^{\\infty}\\frac{D_{t+i}}{(1+R)^i}$$을 이용하면 $$P_{t}=\\sum_{i=1}^{\\infty}\\frac{(1+G)^{i-1}}{(1+R)^{i}}D \\ (단\\ D는 \\ 초기배당)$$라는 결론을 얻을 수 있습니다. 이를 정리하면 $$P_{t}=\\frac{D}{1+R} \\sum_{i=1}^{\\infty}\\frac{ (1+G)^{i-1}}{(1+R)^{i-1}} =\\frac{D}{1+R} \\sum_{i=0}^{\\infty}\\Bigg(\\frac{1+G}{1+R}\\Bigg)^i$$이라는 결론을 얻을 수 있습니다.\n",
    "\n",
    "이를 무한등비급수의 합 공식을 이용해 정리하면 $$P_{t}=\\frac{D}{R-G} $$라는 결과를 얻게 됩니다."
   ]
  },
  {
   "cell_type": "markdown",
   "metadata": {},
   "source": [
    "# 5. 포트폴리오 이론"
   ]
  },
  {
   "cell_type": "markdown",
   "metadata": {},
   "source": [
    "포트폴리오란 투자한 각종 자산의 구성을 의미합니다. 혹은 자산군 $S=\\{s_1,s_2,s_3,\\dots,s_N\\}$에 대해 각 자산에 투자한 비중 벡터 $W=[w_1, w_2, w_3, \\dots, w_N]$으로 정의할 수 있습니다. \n",
    "\n",
    "자산군 $S$에 대해 포트폴리오 $W$를 구축하였다고 가정해 봅시다. 이때, 각 자산 $s_i, \\ s_j$의 공분산이 ${\\sigma}_{ij}$로 주어질 때 포트폴리오의 분산은 다음과 같이 주어집니다. \n",
    "\n",
    "$$\n",
    "\\text{포트폴리오의 분산} = \\sum_{i=1}^{N} \\sum_{j=1}^{N} w_i w_j \\sigma_{ij}\n",
    "$$\n",
    "\n"
   ]
  },
  {
   "cell_type": "markdown",
   "metadata": {},
   "source": [
    "## 5.1 Portfolio 선택 이론"
   ]
  },
  {
   "cell_type": "markdown",
   "metadata": {},
   "source": [
    "### 5.1.1 분산투자"
   ]
  },
  {
   "cell_type": "markdown",
   "metadata": {},
   "source": [
    "우선 두개의 자산에 투자한다고 가정해 봅시다. 두 자산에 동일한 비중을 둔다고 가정하고, 각 자산 $s_i$의 분산을  ${\\sigma}_{i}^2$이라 하고 두 자산 $s_i, \\ s_j$ 의 공분산은 0이라고 가정한다면 두개의 자산에 동일하게 비중을 준 포트폴리오의 분산은 $$Var(W)=\\frac{{\\sigma}_{1}^2}{4}+\\frac{{\\sigma}_{2}^2}{4}$$이라는 결과를 얻게 됩니다. 마찬가지로 3개의 자산에 동일한 비중을 준 포트폴리오의 분산을 계산해보면 $$Var(W)=\\frac{{\\sigma}_{1}^2}{9}+\\frac{{\\sigma}_{2}^2}{9}+\\frac{{\\sigma}_{3}^3}{9}$$이라는 사실을 알 수 있습니다. 이를 N개의 자산에 동일한 비중을 둔 포트폴리오의 분산으로 확장해보면 $$Var(W)=\\sum_{i=1}^{N}\\frac{{\\sigma}_{i}^2}{N^2}$$이라는 결과를 얻게 됩니다. 여기서 자신 N이 무한히 커질 때의 분산은 $$Var(W)=\\lim_{N\\to\\infty}\\sum_{i=1}^{N}\\frac{{\\sigma}_{i}^2}{N^2}=0$$이라는 결론을 얻을 수 있습니다. 이렇게 **자산이 추가될 때 포트폴리오의 분산이 작아지는 것**을 **분산투자 효과**라고 합니다.\n",
    "\n",
    "하지만 실제로 자산의 수를 계속 늘린다고 해서 포트폴리오의 분산이 0이 되지는 않습니다. 그 이유는 자산 사이의 공분산이 0이라는 가정이 비현실적이기 때문입니다. 모든 자산은 시장 위험에 노출되어 있기 때문입니다. 이로 인해 포트폴리오에 추가되는 자산의 수를 계속 늘려나가도 어느 순간부터는 더 이상 분산투자 효과가 나타나지 않게 되는데, 이때 분산의 크기를 **체계적 위험(Systemic risk)**라고 부릅니다."
   ]
  },
  {
   "cell_type": "markdown",
   "metadata": {},
   "source": [
    "<center>\n",
    "    \n",
    "<img src=\"./image/체계적위험.jpg\" width=\"700px\" height=\"350px\">\n",
    "    \n",
    "</center>"
   ]
  },
  {
   "cell_type": "markdown",
   "metadata": {},
   "source": [
    "### 5.1.2 평균-분산 분석과 자산배분"
   ]
  },
  {
   "cell_type": "markdown",
   "metadata": {},
   "source": [
    "#### 5.1.2.1 평균-분산 분석"
   ]
  },
  {
   "cell_type": "markdown",
   "metadata": {},
   "source": [
    "위험회피적 투자자의 utility function을 다음과 같이 가정합니다. $$E[R_p]-\\frac{1}{2}A \\cdot Var(R_p)$$ 여기서 \n",
    "1. $E[R_p]$ : 포트폴리오의 수익률을 의미한다\n",
    "2. A : 투자자의 위험회피도를 의미한다.\n",
    "3. $Var(R_p)$ : 포트폴리오의 분산을 의미한다   \n",
    "    \n",
    "이는 투자자의 효용이 포트폴리오의 평균과 분산에만 의존한다는 것을 나타냅니다. 이때, 이 가정을 위해서는 수익률이 정규분포를 이루고 CARA utility function을 가진다는 조건이 필요합니다."
   ]
  },
  {
   "cell_type": "markdown",
   "metadata": {},
   "source": [
    "#### 5.1.2.2 자산배분선(Capital Allocation Line, CAL)"
   ]
  },
  {
   "cell_type": "markdown",
   "metadata": {},
   "source": [
    "가장 간단한 케이스를 살펴보겠습니다. 위험 자산 $R_1$과 무위험 자산 $R_f$에 투자한다고 가정해봅시다. $w_1$을 위험 자산에 대한 투자 비중이라고 정의하면 무위험 자산에 대한 투자 비율은 $1-w_1$이 될 것입니다. 이때 포트폴리오의 기대 수익률 $E[R_p]$는 $$E[R_p]-R_f=w_1(E[R_1]-R_f)$$가 됩니다. 그리고 포트폴리오의 분산 ${\\sigma _p}^2$는 $${\\sigma _p}^2={w_1}^2{\\sigma_1}^2$$이 됩니다. 이때 ${\\sigma_1}^2$는 위험 자산 $R_1$의 분산을 의미합니다. 따라서 $${\\sigma _p}=\\left\\vert w_1 \\sigma_1 \\right\\vert$$가 됩니다. 따라서 포트폴리오의 기대수익률 $E[R_p]$는 $$E[R_p]-R_f=\\sigma_p \\cdot \\frac{E[R_1]-R_f}{\\sigma_1}$$가 됩니다. 즉, $E[R_p]$와 $\\sigma_p$는 선형관계를 가지고 있습니다. 여기서 $$E[R_p]-R_f=\\sigma_p \\cdot \\frac{E[R_1]-R_f}{\\sigma_1}$$를 자산배분선이라고 부릅니다."
   ]
  },
  {
   "cell_type": "markdown",
   "metadata": {},
   "source": [
    "#### 5.1.2.3 샤프 비율(Sharp Ratio)"
   ]
  },
  {
   "cell_type": "markdown",
   "metadata": {},
   "source": [
    "위 자산배분선에서 위험자산의 샤프 비율$S$는 $$ S\\equiv \\frac{E[R_1]-R_f}{\\sigma_1}$$로 정의됩니다. 이는 위험(분산 혹은 표준편차) 대비 얼마만큼의 추가수익률을 거두었냐는 의미이며, 금융에서 투자 성과를 평가하고 분석함에 있어 자주 사용되는 지표입니다."
   ]
  },
  {
   "cell_type": "markdown",
   "metadata": {},
   "source": [
    "#### 5.1.2.4 평균-분산 최적화(mean-variance optimization)와 마코위츠 모형(Markowitz model)"
   ]
  },
  {
   "cell_type": "markdown",
   "metadata": {},
   "source": [
    "이제 포트폴리오 벡터 $W$와 각 자산의 기대수익률 벡터 $\\mu$, 그리고 자산의 공분산 행렬 $\\Pi$가 주어졌다고 해보겠습니다. 이때, 우리가 풀어야 할 문제는 효용함수를 극대화하는 최적화 문제입니다. 앞서 우리는 효용이 평균과 분산에만 의존한다고 가정하였습니다. 즉 $$E[R_p]-\\frac{1}{2}A \\cdot Var(R_p)$$의 극대화 문제를 푸는 것이라고 할 수 있습니다. 이 효용함수를 선형대수적으로 표현하면 다음과 같습니다. $$W^T\\mu - \\frac{A}{2}W^T\\Pi W$$ 따라서 우리가 마주한 문제는 $$\\max_{W} \\; W^T\\mu - \\frac{A}{2}W^T\\Pi W $$가 되며, 이 문제의 해답은 $$W=(A\\Pi)^{-1}\\mu$$가 된다는 사실을 알 수 있습니다. 이러한 평균-분산 최적화 모형을 마코위츠 모형이라고도 부릅니다."
   ]
  },
  {
   "cell_type": "markdown",
   "metadata": {},
   "source": [
    "#### 5.1.2.5 효율적 투자선(Efficient Frontier)과 접선 포트폴리오(Tangency portfolio), 자본시장선(Capital Market Line)"
   ]
  },
  {
   "cell_type": "markdown",
   "metadata": {},
   "source": [
    "위의 마코위츠 모형은 모든 자산이 위험자산일때의 포트폴리오 선택 방법이었습니다. 만일 무위험 자산이 포함된다면 위의 자산배분선을 계산하는 방법을 사용할 수 있습니다. 우리는 포트폴리오 벡터 $W$를 조정해가며 다양한 포트폴리오 표준편차 및 기대수익률의 순서쌍, 즉 $(\\sigma_p, E[R_p])$를 계산할 수 있습니다. 이를 표준편차-기대수익률 공간에 표기하면 아래와 같은 모양을 얻을 수 있습니다. "
   ]
  },
  {
   "cell_type": "markdown",
   "metadata": {},
   "source": [
    "<center>\n",
    "    \n",
    "<img src=\"./image/효율적투자선.png\" width=\"700px\" height=\"350px\">\n",
    "    \n",
    "</center>"
   ]
  },
  {
   "cell_type": "markdown",
   "metadata": {},
   "source": [
    "이때, 우리는 기대 수익을 좋아하고 분산(표준편차)를 싫어하는 평균-분산 효용함수를 가지고 있다고 가정하였습니다. 따라서 **동일한 표준편차에 대해서는 높은 수익률을 선호**할 것이고, **동일한 수익률에 대해서는 낮은 표준편차를 선호**할 것입니다. 이를 **지배원리**라고 부릅니다. 이 지배원리에 따라 가장 선호되는 포트폴리오의 집합을 우리는 **효율적 투자선**이라고 부릅니다."
   ]
  },
  {
   "cell_type": "markdown",
   "metadata": {},
   "source": [
    "이제 위에서 자산배분선을 유도하던 방법을 사용할 수 있습니다. 즉, 포트폴리오 자체를 하나의 위험 자산처럼 인식한 뒤, 무위험 자산과 위험 자산 사이의 비중을 결정하는 것입니다. 그렇다면 하나의 위험 자산으로 인식할 포트폴리오는 어떤 것을 사용해야 할까요? 가장 높은 샤프 비율을 달성하는 포트폴리오를 사용하면 됩니다. 이 **가장 높은 샤프 비율을 달성하는 포트폴리오를 접선 포트폴리오**라고 부릅니다. 그리고 가장 높은 샤프 비율을 달성하는 자산배분선을 **자본시장선(capital market line, CML)**이라고 합니다. 또한 투자자들의 의사결정이 **접선 포트폴리오와 무위험 자산을 잇는 자본시장선 하에서 효용을 극대화하는 문제**로 바뀌게 됩니다. "
   ]
  },
  {
   "cell_type": "markdown",
   "metadata": {},
   "source": [
    "<center>\n",
    "    \n",
    "<img src=\"./image/자본시장선.png\" width=\"700px\" height=\"350px\">\n",
    "    \n",
    "</center>"
   ]
  },
  {
   "cell_type": "markdown",
   "metadata": {},
   "source": [
    "## 5.2 CAPM(Capital asset pricing model)"
   ]
  },
  {
   "cell_type": "markdown",
   "metadata": {},
   "source": [
    "CAPM의 주장은 위에 나오는 **접선 포트폴리오가 바로 시장 포트폴리오**라는 것입니다. 즉, 시장 포트폴리오가 sharp ratio를 극대화하는 가장 좋은 포트폴리오라는 것입니다. 따라서 모든 투자자들은 단순히 무위험자산과 시장 포트폴리오의 비중을 정하는 의사결정만을 수행하게 됩니다. 이때, 시장 포트폴리오는 시장에 존재하는 모든 위험 자산의 시장가치 가중 포트폴리오를 의미합니다. \n",
    "\n",
    "이러한 CAPM의 주장은 원래라면 복잡한 공분산 행렬 계산을 통해 접선 포트폴리오를 찾아야 하는 기존 포트폴리오 구성 과정을 단순히 시장 포트폴리오를 접선 포트폴리오로 선택하는 것으로 단순화 할 수 있다는 장점을 가지게 됩니다. \n",
    "\n",
    "위에서 논의한 CAPM의 주장을 토대로 등장하는 식이 바로 $$E[R_i]-R_f=\\beta_i(E[R_m]-R_f)$$입니다. 여기서\n",
    "1. $E[R_i]$ : 위험자산 i의 기대 수익률\n",
    "2. $E[R_m]$ : 시장 포트폴리오의 기대 수익률\n",
    "3. $R_f$ : 무위험 자산 수익률\n",
    "이며, $\\beta_i$는 $$\\beta_i=\\frac{Cov(R_i,R_m)}{Var(R_m)}$$으로 나타나는 일종의 회귀계수입니다.\n",
    "\n",
    "이 CAPM은 매우 간단하지만 강력한 힘을 가지고 있는 이론으로, 위험자산(특히 주식)의 요구수익률을 계산하는 등 가장 기초적인 pricing 모델로 현재도 사용되고 있습니다."
   ]
  },
  {
   "cell_type": "markdown",
   "metadata": {},
   "source": [
    "## 5.3 증권시장선(security market line, SML)"
   ]
  },
  {
   "cell_type": "markdown",
   "metadata": {},
   "source": [
    "앞서 CAPM에 따르면 $$E[R_i]-R_f=\\beta_i(E[R_m]-R_f)$$이 성립합니다. 이때, $$E[R_i]=R_f+\\beta_i(E[R_m]-R_f)$$를 증권시장선이라고 부릅니다.\n",
    "\n",
    "CAPM이 성립하는지 확인하기 위해서 $E[R_m]-R_f$를 독립 변수로 설정하고 $E[R_i]-R_f$를 종속 변수로 설정한 뒤 회귀분석을 수행하면 $$E[R_i]-R_f=\\alpha_i+\\beta_i(E[R_m]-R_f)+\\epsilon_i$$을 얻을 수 있습니다.\n",
    "\n",
    "만일 CAPM이 성립한다면, 앞의 회귀식 $$E[R_i]-R_f=\\alpha_i+\\beta_i(E[R_m]-R_f)+\\epsilon_i$$에서 $\\alpha_i=0$이 항상 성립해야만 합니다."
   ]
  },
  {
   "cell_type": "markdown",
   "metadata": {},
   "source": [
    "<center>\n",
    "    \n",
    "<img src=\"./image/증권시장선.jpg\" width=\"700px\" height=\"350px\">\n",
    "    \n",
    "</center>"
   ]
  },
  {
   "cell_type": "code",
   "execution_count": null,
   "metadata": {},
   "outputs": [],
   "source": []
  }
 ],
 "metadata": {
  "kernelspec": {
   "display_name": "Python 3",
   "language": "python",
   "name": "python3"
  },
  "language_info": {
   "codemirror_mode": {
    "name": "ipython",
    "version": 3
   },
   "file_extension": ".py",
   "mimetype": "text/x-python",
   "name": "python",
   "nbconvert_exporter": "python",
   "pygments_lexer": "ipython3",
   "version": "3.8.5"
  }
 },
 "nbformat": 4,
 "nbformat_minor": 4
}
