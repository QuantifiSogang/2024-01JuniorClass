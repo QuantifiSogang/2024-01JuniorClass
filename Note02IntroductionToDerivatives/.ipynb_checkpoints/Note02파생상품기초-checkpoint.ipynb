{
 "cells": [
  {
   "cell_type": "markdown",
   "metadata": {},
   "source": [
    "# 1. 파생상품 기초"
   ]
  },
  {
   "cell_type": "markdown",
   "metadata": {},
   "source": [
    "## 1.1 파생상품의 정의"
   ]
  },
  {
   "cell_type": "markdown",
   "metadata": {},
   "source": [
    "- 자본시장법에 따르면 파생상품이란 **원본대비 손실률이 100% 초과 가능성이 있는 상품**을 의미합니다\n",
    "- 경제학적으로 파생상품이란 **특정 지수나 현물 가격과 같은 기초자산(underlying asset)의 변동에 의거해 자산의 가치가 결정되는 상품**을 의미합니다."
   ]
  },
  {
   "cell_type": "markdown",
   "metadata": {},
   "source": [
    "## 1.2 파생상품의 분류"
   ]
  },
  {
   "cell_type": "markdown",
   "metadata": {},
   "source": [
    "일반적으로, 파생상품은 크게 3가지로 분류합니다.\n",
    "1. 선도(Forward) : 기초자산이나 기초자산의 가격 등에 의해 산출된 금전 등을 **장래의 특정시점에 인도할 것을 약정**하는 계약입니다.\n",
    "2. 옵션(Option) : 당사자의 어느 한쪽의 의사표시에 의하여 기초자산의 가격 등에 의해 산출된 금전 등을 수수하는 거래를 성립시킬 수 있는 **권리를 부여하는 계약**입니다.\n",
    "3. 스왑(Swap) : 장래의 일정기간동안 미리 정한 가격으로 기초자산의 가격 등에 의해 산출된 금액을 **교환할 것을 약정하는 계약**입니다."
   ]
  },
  {
   "cell_type": "markdown",
   "metadata": {},
   "source": [
    "## 1.3 연속복리"
   ]
  },
  {
   "cell_type": "markdown",
   "metadata": {},
   "source": [
    "단리는 원금에만 이자를 붙이는 이자계산방법입니다. 복리는 단리와는 다르게 원금에 대해서뿐만 아니라 **원금에서 생기는 이자에도** 원금과 동일한 이율의 이자를 붙여주는 이자계산법을 의미합니다. 1년에 한번 이자를 준다고 가정해봅시다. 원금 $A$, 이자율 $r$, 시간 $t$년에 대해 단리와 복리의 차이점은 수식으로 표현하면 다음과 같습니다.\n",
    "\n",
    "$$Y_{simple}=A(1+rt) \\newline\n",
    "Y_{compound}=A(1+r)^t$$"
   ]
  },
  {
   "cell_type": "markdown",
   "metadata": {},
   "source": [
    "이제, 1년에 m번 이자를 지급하는 복리에 대해 생각해 봅시다. 그렇다면 연이자율 r에 대해 한번 지급하는 이자율은 $\\frac{r}{m}$이 됩니다. 그리고 연당 지급되는 총 금액은 $$Y=A(1+\\frac{r}{m})^m$$이 되고, t년간 지급되는 총 금액은 $$Y=A(1+\\frac{r}{m})^{mt}$$이 됩니다. 이제 이자를 무한히 지급한다고 가정해 봅시다. 즉, <span style=\"font-size: 15px\">$$lim_{m \\to \\infty} \\ A(1+\\frac{r}{m})^{mt}$$</span>을 계산해보면\n",
    "<span style=\"font-size: 20px\">$$lim_{m\\to\\infty} \\ A(1+\\frac{r}{m})^{mt}=lim_{m \\to \\infty} \\ A(1+\\frac{r}{m})^{\\frac{m}{r}rt}=Ae^{rt}$$</span>라는 식을 유도할 수 있습니다. 여기서 이 $r$이 바로 연속복리 이자율입니다."
   ]
  },
  {
   "cell_type": "markdown",
   "metadata": {},
   "source": [
    "연속복리의 장점은, 미래 가치(future value, FV)와 현재 가치(present value, PV)를 계산하는 것이 매우 쉽다는 것입니다. 예를 들어 $$현재 \\ A원의 \\ T년 \\ 후 \\ 미래가치 \\ : \\ FV=Ae^{rT}$$ $$T년 \\ 후 \\ A원의 \\ 현재가치 \\ : \\ PV=Ae^{-rT}$$라는 결과를 얻을 수 있습니다."
   ]
  },
  {
   "cell_type": "markdown",
   "metadata": {},
   "source": [
    "# 2. 선물(Futures)"
   ]
  },
  {
   "cell_type": "markdown",
   "metadata": {},
   "source": [
    "## 2.1 재화의 특성"
   ]
  },
  {
   "cell_type": "markdown",
   "metadata": {},
   "source": [
    "경제학에서 재화란 경제주체 사이의 거래 대상을 뜻합니다. 소비자의 효용을 증대시키는 상품으로 정의하기도 합니다. 이러한 재화는 4가지 특성을 가집니다.\n",
    "1. 물리적 특성 : 사과와 아이스크림이 완전히 다른 재화이듯, 재화 자체가 가지고 있는 물리적인 특성을 의미합니다.\n",
    "2. 장소 : 같은 물리적 특성을 가지더라도 장소가 다르다면 다른 재화로 인식합니다.\n",
    "3. 조건부 : 조건에 따라 다른 효용을 산출하는 재화를 의미합니다. 앞서 배운 lottery 형태의 재화입니다.\n",
    "4. 시간 : 동일한 물리적 특성과 같은 장소에 있더라도 시간이 다르다면 다른 재화로 인식합니다.\n",
    "\n",
    "파생상품 중 선물과 옵션은 재화의 4가지 특성 중 **시간**이라는 특성에 초점을 맞춘 파생상품입니다."
   ]
  },
  {
   "cell_type": "markdown",
   "metadata": {},
   "source": [
    "## 2.2 선물의 정의"
   ]
  },
  {
   "cell_type": "markdown",
   "metadata": {},
   "source": [
    "- 선물은 **미래의 일정한 시점(만기일)에 일정한 양(거래단위)과 질을 갖춘 특정 상품(기초자산)을 미리 정한 가격(선물가격)으로 매매**하기로 **현재 시점에서 약속한 계약**을 의미합니다. 선물 계약에는 아래 4가지 요소는 미리 결정되어 있으며, 시장에서 선물 가격을 결정하게 됩니다.\n",
    "    1. 기초자산 : 선물 거래시 인수도 대상이 되는 자산을 말합니다. 상품이 기초자산이 되기 위해서는 시장유동성, 거래조건 표준화, 시장가격의 자율 경쟁을 통한 결정, 높은 가격변동성, 시장정보의 자유롭고 공개적인 취득 가능성 등의 조건이 필요합니다.\n",
    "    2. 거래단위 : 계약단위를 의미하며, 선물 1 계약의 크기를 뜻합니다. 이 거래단위가 너무 크다면 유동성이 부족해져 선물시장규모가 축소될 우려가 있고, 거래단위가 너무 작다면 유동성은 확대되나 선물시장의 변동성이 커질 위험이 존재합니다.\n",
    "    3. 인수도 장소 : 실물자산의 경우 중요한 요소로 선물 만기시에 기초자산을 인수도할 장소를 의미합니다.\n",
    "    4. 만기월 : 현물이 인도됨으로써 계약의무가 이행되는 날짜를 말합니다.\n"
   ]
  },
  {
   "cell_type": "markdown",
   "metadata": {},
   "source": [
    "- 선물거래에서 **기초자산을 미래에 인도하기로 하는 사람**을 **선물매도자**, **미래에 기초자산을 인수하기로 하는 사람**을 **선물매수자**라고 부릅니다. 예를 들어, 석유수출기업이 2025년 10월에 석유정제회사에 석유를 베럴당 90달러에 2000단위를(단, 한 단위당 1000배럴) 오클라호마주 쿠싱에서 인도하기로 2024년 10월에 계약을 맺었다면, 선물계약의 요소는 다음과 같습니다.\n",
    "    1. 석유수출기업은 선물 매도자\n",
    "    2. 석유정제회사는 선물 매수자\n",
    "    3. 2025년 10월은 만기월\n",
    "    4. 석유는 기초자산\n",
    "    5. 베럴당 90달러는 선물가격 \n",
    "    6. 인수도 장소는 오클라호마주 쿠싱\n",
    "    7. 거래 단위는 1000배럴"
   ]
  },
  {
   "cell_type": "markdown",
   "metadata": {},
   "source": [
    "## 2.3 선물의 손익 구조"
   ]
  },
  {
   "cell_type": "markdown",
   "metadata": {},
   "source": [
    "미래 시점에서 기초자산 인수도가 일어나는 만큼, 선물의 손익 구조는 미래 시점의 기초자산의 가격에 의존합니다."
   ]
  },
  {
   "cell_type": "markdown",
   "metadata": {},
   "source": [
    "### 2.3.1 선물 매수자"
   ]
  },
  {
   "cell_type": "markdown",
   "metadata": {},
   "source": [
    "선물 매수자의 경우, 미래 시점의 기초자산 가격이 비싸지면 기초자산을 싸게 구매한 것이기 때문에 이익을 보며, 미래 시점의 기초자산 가격이 싸지면 기초자산을 비싸게 구매한 것이기 때문에 손해를 봅니다. 따라서 선물 매수자의 Payoff는 다음과 같이 주어집니다.\n",
    "\n",
    "$$\\Pi_T=(S_T-F_t)X$$\n",
    "이때, 밑첨자 $T$는 만기월, $S_T$는 만기 시 기초자산의 가격, $F_t$는 선물가격, X는 선물 거래량을 의미합니다."
   ]
  },
  {
   "cell_type": "markdown",
   "metadata": {},
   "source": [
    "### 2.3.2 선물 매도자"
   ]
  },
  {
   "cell_type": "markdown",
   "metadata": {},
   "source": [
    "선물 매도자의 경우, 미래 시점의 기초자산 가격이 비싸지면 기초자산을 싸게 판매한 것이기 때문에 손해를 보며, 미래 시점의 기초자산 가격이 싸지면 기초자산을 비싸게 판매한 것이기 때문에 이익을 봅니다. 따라서 선물 매도자의 Payoff는 다음과 같이 주어집니다.\n",
    "\n",
    "$$\\Pi_T=(F_t-S_T)X$$\n",
    "이때, 밑첨자 $T$는 만기월, $S_T$는 만기 시 기초자산의 가격, $F_t$는 선물가격, X는 선물 거래량을 의미합니다."
   ]
  },
  {
   "cell_type": "markdown",
   "metadata": {},
   "source": [
    "매도자와 매수자의 payoff를 동시에 표현하기 위해 다음과 같이 서술합니다.\n",
    "$$\\Pi_T=(F_t-S_T)X \\ \n",
    "\\begin{cases}\n",
    "if X>0, & X \\ 계약 \\ 매도, \\newline\n",
    "if X<0, & X \\ 계약 \\ 매수,\n",
    "\\end{cases}$$\n",
    "즉, $X>0$이면 $X$계약 매도한 것이며, $X<0$이면 $X$계약 매수한 것입니다."
   ]
  },
  {
   "cell_type": "markdown",
   "metadata": {},
   "source": [
    "<center>\n",
    "    \n",
    "<img src=\"./image/선물.png\" width=\"700px\" height=\"400px\">\n",
    "    \n",
    "</center>"
   ]
  },
  {
   "cell_type": "markdown",
   "metadata": {},
   "source": [
    "## 2.4 선물가격과 현물가격"
   ]
  },
  {
   "cell_type": "markdown",
   "metadata": {},
   "source": [
    "일반적으로 선물가격과 현물가격은 같지 않습니다. 그 이유는 선물 가격은 **미래의 재화**를 기준으로 하는 만큼, 현물을 보유하는 과정에서의 손익이 포함되어 결정되기 때문입니다.\n",
    "\n",
    "선물 가격 $F_t$는 다음과 같이 결정됩니다. $$F_t=S_t+보유비용-보유수익$$ 이러한 이론을 보유비용모형이라고 부릅니다.\n",
    "\n",
    "당연하겠지만, 일반적으로 $F_t \\neq S_t$입니다. 그리고 $$\\begin{cases}\n",
    "F_t > S_t, & Contango \\ Market, \\newline\n",
    "F_t < S_t,  & Backwardation \\ Market,\n",
    "\\end{cases} $$ 이라고 부릅니다.\n",
    "\n",
    "또한, Basis $B_t$를 $$B_t \\equiv F_t-S_t$$로 정의하는데, $$\\begin{cases}\n",
    "B_t>0, & Contango \\ Market, \\newline\n",
    "B_t<0,  & Backwardation \\ Market,\n",
    "\\end{cases} $$ 이라고 할 수 있습니다."
   ]
  },
  {
   "cell_type": "markdown",
   "metadata": {},
   "source": [
    "위의 보유비용모형과 연속복리이자율 개념을 이용하면 다음과 같은 사실을 알 수 있습니다. 어떤 자산의 보유수익률이 $y$, 이자비용 및 보유비용이 연속복리 이자율 $r$이고 보유기간 $T-t = \\Delta t$인 자산의 이론적 선물가격은 <span style=\"font-size: 17px\"> $$F_T=S_te^{(r-y)\\Delta t}$$ </span> 입니다"
   ]
  },
  {
   "cell_type": "markdown",
   "metadata": {},
   "source": [
    "혹은, 보유비용이 연속복리 이자율 $r$이고 모든 보유수익의 현재가치의 합이 $I$라고 주어진다면 보유기간 $T-t = \\Delta t$인 자산의 이론적 선물가격은 <span style=\"font-size: 17px\"> $$F_T=(S_t-I)e^{r\\Delta t}$$ </span> 입니다"
   ]
  },
  {
   "cell_type": "markdown",
   "metadata": {},
   "source": [
    "## 2.5 선물과 선도"
   ]
  },
  {
   "cell_type": "markdown",
   "metadata": {},
   "source": [
    "선물(futures)과 비슷한 개념으로 선도(forwards)라는 개념이 있습니다. 선도 또한 미래의 재화를 현재 거래한다는 점에서는 선물과 동일한 개념입니다. 하지만 선물은 **중앙화된 시장에서 규격화된 거래 가격만 결정**하는 시장 형태를 가지고 있어 **비교적 유동성이 풍부하고 소액투자자도 접근이 가능**하며 보통 **반대매매로 청산**하여 거래를 끝내는 반면, 선도는 **중앙화되지 않은 시장에서 구매자와 판매자가 일대일로 거래**하는 특성 상 **거래가 규격화되어있지 않고 유동성이 부족**하여 **상대방의 계약불이행 위험에 노출될 가능성이 높아 소액투자자의 접근이 거의 불가능**하고 마지막으로 **실물인수도로 거래가 종료**되는 특징을 가지고 있습니다. 이를 표로 정리하면 다음과 같습니다.\n",
    "\n",
    "|<span style=\"font-size: 20px\">선물</span>|<span style=\"font-size: 20px\">선도</span>|\n",
    "|:---:|:---:|\n",
    "|<span style=\"font-size: 15px\">중앙화된 시장</span>|<span style=\"font-size: 15px\">중앙화되지 않은 장외시장</span>|\n",
    "|<span style=\"font-size: 15px\">규격화된 거래</span>|<span style=\"font-size: 15px\">비규격화된 거래</span>|\n",
    "|<span style=\"font-size: 15px\">반대매매로 거래 종료</span>|<span style=\"font-size: 15px\">실물인수도로 거래 종료</span>|\n",
    "|<span style=\"font-size: 15px\">상대방의 계약불이행 가능성 낮음</span>|<span style=\"font-size: 15px\">상대방의 계약불이행 가능성 높음</span>|\n",
    "|<span style=\"font-size: 15px\">매일 정산</span>|<span style=\"font-size: 15px\">만기에만 정산</span>|"
   ]
  },
  {
   "cell_type": "markdown",
   "metadata": {},
   "source": [
    "만일 **이자율이 일정하며 이자율과 선물가격의 공분산이 0이다**는 가정이 존재한다면 선물가격과 선도가격은 같습니다."
   ]
  },
  {
   "cell_type": "markdown",
   "metadata": {},
   "source": [
    "# 3. 옵션(Option)"
   ]
  },
  {
   "cell_type": "markdown",
   "metadata": {},
   "source": [
    "## 3.1 옵션의 기초"
   ]
  },
  {
   "cell_type": "markdown",
   "metadata": {},
   "source": [
    "옵션 또한 미래 재화를 다룬다는 점에서는 선물과 비슷한 면을 가집니다. 하지만 선물과 옵션의 가장 큰 차이점은 선물은 손해를 보던 이익을 보던 계약에 따른 의무를 매도자와 매수자 모두 이행해야 하지만, 옵션의 경우 행사를 할지 말 지 결정할 **권리**를 거래한다는 점입니다.\n",
    "\n",
    "옵션에는 두가지 종류가 있습니다.\n",
    "1. Call option : **살** 권리를 의미합니다.\n",
    "2. Put option : **팔** 권리를 의미합니다.\n",
    "\n",
    "또한 옵션의 중도 행사 가능 여부에 따라 두가지로 나뉩니다.\n",
    "1. American option : 옵션매입자는 **중도 권리 행사가 가능**합니다.\n",
    "2. European option : 옵션매입자는 **만기에만 권리 행사가 가능**합니다.\n",
    "\n",
    "그리고 옵션에서는 기초자산의 매도와 매수를 결정하는 것이 아닌, **권리**의 매도와 매수를 구분합니다. 예를 들어, 석유 call option **매수자**의 경우 석유를 **살 권리를 구매**한 것이며, 석유 call option **매도자**는 석유를 **살 권리를 판매**한 것을 의미합니다. 석유 put option의 경우는 put option **매수자**는 석유를 **팔 권리를 매수**한 것이며, 석유 put option **매도자**는 석유를 **팔 권리를 매도**한 것이 됩니다. 이를 다르게 표기하면 옵션매수자는 **매매이행(계약이행)을 청구할 권리**를 가지며, 옵션매도자는 **매매이행(계약이행)을 할 의무**만을 가지게 됩니다."
   ]
  },
  {
   "cell_type": "markdown",
   "metadata": {},
   "source": [
    "옵션 계약에도 몇가지 구성 요소가 존재합니다.\n",
    "1. 기초자산 : 거래 대상이 되는 자산을 말합니다. 선물과 유사합니다.\n",
    "2. 옵션매수자 : **권리를 구매한 사람**을 의미합니다. 매매이행을 청구할 권리를 가집니다.\n",
    "3. 옵션매도자 : **권리를 판매한 사람**을 의미합니다. 매매이행을 할 의무만을 가집니다.\n",
    "4. 행사가격 : 선물가격에 해당하는 개념입니다. 옵션매수자가 **권리행사시 이 행사가격에 기초자산을 사거나 팔게 됩니다**.\n",
    "5. 옵션 프리미엄 : 옵션매수자가 권리에 대한 대가로 옵션매도자에게 지불하는 금액입니다. 옵션의 가격(option price)이라고도 할 수 있습니다. \n",
    "6. 만기일 : 옵션이 유효한 기간을 의미합니다. American option은 만기일이 오기 전 아무때나 권리행사가 가능하나, European option은 만기에만 권리행사가 가능합니다."
   ]
  },
  {
   "cell_type": "markdown",
   "metadata": {},
   "source": [
    "## 3.2 옵션의 손익구조"
   ]
  },
  {
   "cell_type": "markdown",
   "metadata": {},
   "source": [
    "### 3.2.1 Call option의 손익구조"
   ]
  },
  {
   "cell_type": "markdown",
   "metadata": {},
   "source": [
    "call option은 **살 권리**에 해당합니다. 따라서 call option 매수자는 미래 현물가격이 행사가격보다 비쌀때 살 권리를 행사할 것이며, 미래 현물가격이 행사가격보다 쌀 때 살 권리를 행사하진 않을 것입니다. 왜냐하면 옵션을 행사하지 않고 현물시장에서 사는게 더 싸기 때문입니다.\n",
    "\n",
    "이를 정리하면 $$\\begin{cases}\n",
    "if \\ K\\leq S_T, & 권리를\\ 행사한다 \\newline\n",
    "if \\ K>S_T,  & 권리를\\ 행사하지\\ 않는다.\n",
    "\\end{cases} $$\n",
    "\n",
    "그리고 권리 행사를 통해 얻는 이익은\n",
    "$$\\begin{cases}\n",
    "if \\ K\\leq S_T, & \\Pi_T=S_T-K \\newline\n",
    "if \\ K>S_T,  & \\Pi_T=0\n",
    "\\end{cases} $$\n",
    "이 나옵니다. 이를 정리하면 $$\\Pi_T=Max[S_T-K,0]$$ 이라는 사실을 알 수 있습니다.\n",
    "따라서 Call option의 손익구조는 $$\\Pi_T=(c_0-c_T)X \\; \\begin{cases}\n",
    "if \\ X>0, & X\\ 만큼\\ 매도 \\newline\n",
    "if \\ X<0,  & X\\ 만큼\\ 매수.\n",
    "\\end{cases} \\newline where \\ c_T=Max[S_T-K,0], \\; c_0는\\ 매수시\\ 옵션프리미엄$$\n",
    "라고 할 수 있습니다."
   ]
  },
  {
   "cell_type": "markdown",
   "metadata": {},
   "source": [
    "### 3.2.2 Put option의 손익구조"
   ]
  },
  {
   "cell_type": "markdown",
   "metadata": {},
   "source": [
    "put option은 **팔 권리**에 해당합니다. 따라서 put option 매수자는 미래 현물가격이 행사가격보다 쌀때 팔 권리를 행사할 것이며, 미래 현물가격이 행사가격보다 비쌀 때 팔 권리를 행사하진 않을 것입니다. 왜냐하면 옵션을 행사하지 않고 현물시장에 파는게 더 비싸기 때문입니다.\n",
    "\n",
    "이를 정리하면 $$\\begin{cases}\n",
    "if \\ K\\geq S_T, & 권리를\\ 행사한다 \\newline\n",
    "if \\ K<S_T,  & 권리를\\ 행사하지\\ 않는다.\n",
    "\\end{cases} $$\n",
    "\n",
    "그리고 권리 행사를 통해 얻는 이익은\n",
    "$$\\begin{cases}\n",
    "if \\ K\\geq S_T, & \\Pi_T=K-S_T \\newline\n",
    "if \\ K<S_T,  & \\Pi_T=0\n",
    "\\end{cases} $$\n",
    "이 나옵니다. 이를 정리하면 $$\\Pi_T=Max[K-S_T,0]$$ 이라는 사실을 알 수 있습니다.\n",
    "따라서 Put option의 손익구조는 \n",
    "$$\\Pi_T=(p_0-p_T)X \\; \\begin{cases}\n",
    "if \\ X>0, & X\\ 만큼\\ 매도 \\newline\n",
    "if \\ X<0,  & X\\ 만큼\\ 매수\n",
    "\\end{cases} \\newline where \\ p_T=Max[K-S_T,0], \\; p_0는\\ 매수시\\ 옵션프리미엄$$\n",
    "라고 할 수 있습니다."
   ]
  },
  {
   "cell_type": "markdown",
   "metadata": {},
   "source": [
    "<center>\n",
    "    \n",
    "<img src=\"./image/옵션.png\" width=\"700px\" height=\"400px\">\n",
    "    \n",
    "</center>"
   ]
  },
  {
   "cell_type": "markdown",
   "metadata": {},
   "source": [
    "## 3.3 옵션의 가치(프리미엄)"
   ]
  },
  {
   "cell_type": "markdown",
   "metadata": {},
   "source": [
    "Option의 가격(가치, 프리미엄)은 다음과 같은 두가지 요소로 구성됩니다.\n",
    "1. 내재가치(Intrinsic Value, IV) : option을 지금 권리행사한다고 가정했을때의 가치\n",
    "2. 시간가치(Time Value, TV) : 지금 권리행사하지 않고 만기에 권리행사할 때의 가치.\n",
    "\n",
    "따라서, <span style = \"pont-size=20px\">$$option\\ price = IV+TV$$</span>가 성립합니다."
   ]
  },
  {
   "cell_type": "markdown",
   "metadata": {},
   "source": [
    "### 3.3.1 옵션의 내재가치"
   ]
  },
  {
   "cell_type": "markdown",
   "metadata": {},
   "source": [
    "옵션의 내재가치는 옵션의 권리를 지금 행사할 수 있을때의 가치를 의미합니다. 따라서 옵션의 내재가치는 \n",
    "$$옵션의\\ IV=\\begin {cases} call : Max[S_0-K,0] \\newline\n",
    "put : Max[K-S_0,0]\n",
    "\\end{cases}$$이 됩니다. 여기서 $S_0$는 현재시점의 기초자산 가격을 의미하고, $K$는 행사가격을 의미합니다."
   ]
  },
  {
   "cell_type": "markdown",
   "metadata": {},
   "source": [
    "옵션의 내재가치는 정의에 의해 만기시점에서는 내재가치만 존재하게 됩니다. 즉 **옵션의 가격 = 옵션의 IV가 만기 시점에서는 성립**합니다. 하지만 **만기가 오지 않았다면 옵션의 가격 $\\neq$ IV**입니다. 이 경우, 시간가치를 고려해야 합니다."
   ]
  },
  {
   "cell_type": "markdown",
   "metadata": {},
   "source": [
    "내재가치의 유무에 따라 옵션을 분류할 수 있습니다.\n",
    "1. 심내가격(deeply in-the-money option) : $IV \\gg 0 $\n",
    "2. 내가격(in-the-money option) : $IV > 0$\n",
    "3. 등가격(At-the-money option) : $S_0 \\approx K$\n",
    "4. 외가격(Out-of-the-money option) : $IV=0$\n",
    "3. 심외가격(deeply Out-of-the-money option) : $IV$가 양이 될 가능성이 거의 없는 경우"
   ]
  },
  {
   "cell_type": "markdown",
   "metadata": {},
   "source": [
    "### 3.3.2 옵션의 시간가치"
   ]
  },
  {
   "cell_type": "markdown",
   "metadata": {},
   "source": [
    "#### 3.3.2.1 Call option의 시간가치"
   ]
  },
  {
   "cell_type": "markdown",
   "metadata": {},
   "source": [
    "만기에서의 call option의 현금흐름은 $$Max[S_T-K, 0]$$으로 주어집니다. 그리고 이 만기 현금흐름의 현재가치가 바로 현재의 call option의 가격이 됩니다."
   ]
  },
  {
   "cell_type": "markdown",
   "metadata": {},
   "source": [
    "앞서 $option\\ price=IV+TV$라고 하였습니다. 따라서 $TV=option\\ price-IV$가 성립합니다. 즉, 다음이 성립합니다.\n",
    "1. 내가격 call option의 경우 : $IV=S_0-K,\\; TV=option\\ price-IV=option\\ price-(S_0-K)$\n",
    "2. 외가격 call option의 경우 : $IV=0,\\; TV=option\\ price-IV=option\\ price$\n",
    "\n",
    "이때, $option\\ price인\\ Max[S_T-K, 0]의\\ 기대값의\\ 현재가치는\\ e^{-rT}E[Max[S_T-K, 0]]$로 주어집니다. 그리고 $E[S_T]=e^{rT}S_0$로 주어집니다. 단순화를 위해 $r=0$을 가정하면 $E[S_T]=S_0$이므로 다음이 성립합니다. \n",
    "1. 내가격 call option의 경우 : $TV= E[Max[S_T-K, 0]]-E[S_T-K]$\n",
    "2. 외가격 call option의 경우 : $TV= E[Max[S_T-K, 0]]$\n",
    "\n",
    "이를 통해 등가격일때 TV가 제일 크고, 등가격에서 멀어질수록 TV가 감소함을 알 수 있습니다."
   ]
  },
  {
   "cell_type": "markdown",
   "metadata": {},
   "source": [
    "<center>\n",
    "    \n",
    "<img src=\"./image/콜옵션시간가치.jpg\" width=\"700px\" height=\"400px\">\n",
    "    \n",
    "</center>"
   ]
  },
  {
   "cell_type": "markdown",
   "metadata": {},
   "source": [
    "#### 3.3.2.2 Put option의 시간가치"
   ]
  },
  {
   "cell_type": "markdown",
   "metadata": {},
   "source": [
    "만기에서의 put option의 현금흐름은 $$Max[K-S_T, 0]$$으로 주어집니다. 그리고 이 만기 현금흐름의 현재가치가 바로 현재의 put option의 가격이 됩니다."
   ]
  },
  {
   "cell_type": "markdown",
   "metadata": {},
   "source": [
    "put option에서도 call option과 동일한 논의가 적용됩니다. \n",
    "1. 내가격 put option의 경우 : $IV=K-S_0,\\; TV=option\\ price-IV=option\\ price-(K-S_0)$\n",
    "2. 외가격 put option의 경우 : $IV=0,\\; TV=option\\ price-IV=option\\ price$\n",
    "\n",
    "이때, $option\\ price인\\ Max[K-S_T, 0]의\\ 기대값의\\ 현재가치는\\ e^{-rT}E[Max[K-S_T, 0]]$로 주어집니다. 그리고 $E[S_T]=e^{rT}S_0$로 주어집니다. 단순화를 위해 $r=0$을 가정하면 $E[S_T]=S_0$이므로 다음이 성립합니다. \n",
    "1. 내가격 put option의 경우 : $TV= E[Max[K-S_T, 0]]-E[K-S_T]$\n",
    "2. 외가격 put option의 경우 : $TV= E[Max[K-S_T, 0]]$\n",
    "\n",
    "이를 통해 등가격일때 TV가 제일 크고, 등가격에서 멀어질수록 TV가 감소함을 알 수 있습니다."
   ]
  },
  {
   "cell_type": "markdown",
   "metadata": {},
   "source": [
    "<center>\n",
    "    \n",
    "<img src=\"./image/옵션가치.png\" width=\"1000px\" height=\"400px\">\n",
    "    \n",
    "</center>"
   ]
  },
  {
   "cell_type": "markdown",
   "metadata": {},
   "source": [
    "하지만 put option의 경우, 시간가치가 음의 값을 가질 수 있습니다. 왜냐하면 심내가격에서 american put option은 조기권리행사를 하기 때문입니다. 즉, 동일 상황에서 european put option은 음의 시간가치를 가지게 됩니다."
   ]
  },
  {
   "cell_type": "code",
   "execution_count": 128,
   "metadata": {},
   "outputs": [],
   "source": [
    "import numpy as np\n",
    "from scipy.stats import norm\n",
    "import pandas as pd\n",
    "import matplotlib.pyplot as plt\n",
    "\n",
    "def black_scholes_put(S, K, T, r, sigma):\n",
    "    d1 = (np.log(S / K) + (r + 0.5 * sigma ** 2) * T) / (sigma * np.sqrt(T))\n",
    "    d2 = d1 - sigma * np.sqrt(T)\n",
    "    put_price = K * np.exp(-r * T) * norm.cdf(-d2) - S * norm.cdf(-d1)\n",
    "    return put_price"
   ]
  },
  {
   "cell_type": "code",
   "execution_count": 132,
   "metadata": {},
   "outputs": [
    {
     "data": {
      "text/plain": [
       "[]"
      ]
     },
     "execution_count": 132,
     "metadata": {},
     "output_type": "execute_result"
    },
    {
     "data": {
      "image/png": "[encoded data removed]",
      "text/plain": [
       "<Figure size 864x576 with 1 Axes>"
      ]
     },
     "metadata": {
      "needs_background": "light"
     },
     "output_type": "display_data"
    }
   ],
   "source": [
    "put_price=[]\n",
    "for s in np.linspace(150, 250, 10000):\n",
    "    put_price.append([s, black_scholes_put(s, 200, 0.5, 0.05, 0.2)])\n",
    "df=pd.DataFrame(put_price)\n",
    "\n",
    "put_iv=[]\n",
    "for s in np.linspace(150, 250, 10000):\n",
    "    put_iv.append([s, max(200-s, 0)])\n",
    "df_iv=pd.DataFrame(put_iv)\n",
    "\n",
    "plt.figure(figsize=(12,8))\n",
    "plt.plot(df[0], df[1], label='option_price')\n",
    "plt.plot(df_iv[0], df_iv[1], label='option_iv')\n",
    "plt.legend()\n",
    "plt.plot()"
   ]
  },
  {
   "cell_type": "markdown",
   "metadata": {},
   "source": [
    "그리고, european put option의 심내가격 시간가치는 만기에 가까워질수록 점점 음수에서 0에 가까워집니다. 즉, european put option의 심내가격 시간가치는 만기에 가까워질수록 커집니다."
   ]
  },
  {
   "cell_type": "code",
   "execution_count": 137,
   "metadata": {},
   "outputs": [
    {
     "data": {
      "text/plain": [
       "[]"
      ]
     },
     "execution_count": 137,
     "metadata": {},
     "output_type": "execute_result"
    },
    {
     "data": {
      "image/png": "[encoded data removed]",
      "text/plain": [
       "<Figure size 864x576 with 1 Axes>"
      ]
     },
     "metadata": {
      "needs_background": "light"
     },
     "output_type": "display_data"
    }
   ],
   "source": [
    "put_tv_5=[]\n",
    "for s in np.linspace(150, 250, 10000):\n",
    "    put_tv_5.append([s, black_scholes_put(s, 200, 0.5, 0.05, 0.2)-max(200-s,0)])\n",
    "df_5=pd.DataFrame(put_tv_5)\n",
    "\n",
    "put_tv_25=[]\n",
    "for s in np.linspace(150, 250, 10000):\n",
    "    put_tv_25.append([s, black_scholes_put(s, 200, 0.25, 0.05, 0.2)-max(200-s,0)])\n",
    "df_25=pd.DataFrame(put_tv_25)\n",
    "\n",
    "plt.figure(figsize=(12,8))\n",
    "plt.plot(df_25[0], df_25[1], label='3month_mature')\n",
    "plt.plot(df_5[0], df_5[1], label='6month_mature')\n",
    "plt.legend()\n",
    "plt.plot()"
   ]
  },
  {
   "cell_type": "markdown",
   "metadata": {},
   "source": [
    "## 3.4 Put-Call Parity"
   ]
  },
  {
   "cell_type": "markdown",
   "metadata": {},
   "source": [
    "동일한 만기와 기초자산, 그리고 행사가격을 갖는 put가격과 call 가격 중 하나라도 알게 된다면, 나머지 하나의 가격은 바로 추론이 가능합니다. 이는 put-call parity 때문인데, **put-call parity는 european option이라는 가정**만 필요합니다. 기초자산의 가격 분포나 이론적 옵션가격, 기초자산의 분산 등 다른 요소에 대한 가정이 전혀 필요없기  때문에 option 차익거래 과정에서 매우 중요한 요소로 꼽힙니다. "
   ]
  },
  {
   "cell_type": "markdown",
   "metadata": {},
   "source": [
    "put-call parity는 $$C^e-P^e=S_0-Ke^{-rT}$$로 주어집니다. 여기서\n",
    "1. $C^e$ : call option premium\n",
    "2. $P^e$ : put option premium\n",
    "3. $S_0$ : 기초자산의 현재가\n",
    "4. $K$ : 행사가격\n",
    "5. $r$ : 이자율\n",
    "6. $T$ : 만기까지 남은 시간\n",
    "\n",
    "입니다."
   ]
  },
  {
   "cell_type": "markdown",
   "metadata": {},
   "source": [
    "put-call parity는 다음과 같이 유도됩니다. 콜을 매수하고 $Ke^{-rT}$를 대출하는 포트폴리오와 풋을 매수하고 기초자산을 매수하는 포트폴리오를 비교해 봅시다."
   ]
  },
  {
   "cell_type": "markdown",
   "metadata": {},
   "source": [
    "||<span style=\"font-size: 20px\">콜 매수 및 자금 대출</span>|<span style=\"font-size: 20px\">풋 매수 및 기초자산 매수</span>|\n",
    "|:---:|:---:|:---:|\n",
    "|<span style=\"font-size: 17px\">t=0</span>|<span style=\"font-size: 15px\">$-C^e-Ke^{rT}$</span>|<span style=\"font-size: 15px\">-$P^e-S_0$</span>|\n",
    "|<span style=\"font-size: 17px\">t=T</span>|<span style=\"font-size: 15px\">$Max[S_T-K,0]+K=Max[S_T,K]$</span>|<span style=\"font-size: 15px\">$Max[K-S_T,0]+S_T=Max[K,S_T]$</span>|\n",
    "\n",
    "이때, t=0에서의 payoff는 두 포트폴리오의 비용이며, t=T에서의 payoff는 두 포트폴리오의 수익입니다. 두 포트폴리오의 수익이 같으므로 law of one price에 의해 두 포트폴리오의 비용도 같아야 합니다. 따라서 $$C^e+Ke^{rT}=P^e+S_0$$가 성립하고, 이를 정리하면 $$C^e-P^e=S_0-Ke^{-rT}$$가 성립합니다.\n"
   ]
  },
  {
   "cell_type": "markdown",
   "metadata": {},
   "source": [
    "## 3.5 Binomial Tree Model"
   ]
  },
  {
   "cell_type": "markdown",
   "metadata": {},
   "source": [
    "이항 모델(binomial tree model)는 현재 주가에서 미래 주가로의 움직임이 **일정 비율로 상승하거나 하락하는 2가지 경우만을 가진다**고 가정하는 모델입니다."
   ]
  },
  {
   "cell_type": "markdown",
   "metadata": {},
   "source": [
    "이항모델을 이용해 옵션의 가격을 계산할 때 도입되는 개념이 바로 델타 헤징(delta hedging)입니다. 이는 포트폴리오 구성 시 미래 기초자산의 가치에 상관없이 포트폴리오 가치가 일정하게 유지하게 해 주는 델타를 찾는 문제라고도 할 수 있습니다."
   ]
  },
  {
   "cell_type": "markdown",
   "metadata": {},
   "source": [
    "좀 더 구체적으로 예시를 들어보겠습니다. 현재 기초자산의 가격이 20, 보유기간은 3개월(즉, one step의 크기가 3개월), 연단위 연속복리 이자율이 12%이고 미래 가능한 두가지 자산가격이 $1.1S_0=22\\ $ or $\\ 0.9S_0=18\\ $로 주어진다고 해 봅시다. 그리고 우리는 $\\Delta$만큼의 기초자산을 구매하고 행사가격이 $K=21$인 1계약의 call을 매도하는 포트폴리오를 구축한다고 해보겠습니다. 이때, $\\Delta$를 잘 조정한다면 미래 포트폴리오의 가치는 기초자산의 가격이 어떻게 되든 상관없이 일정하게 만들 수 있을 것입니다. 이 $\\Delta$를 찾는 것을 델타 헤징(delta hedging)이라고 부릅니다."
   ]
  },
  {
   "cell_type": "markdown",
   "metadata": {},
   "source": [
    "<center>\n",
    "    \n",
    "<img src=\"./image/이항모델.png\" width=\"800px\" height=\"400px\">\n",
    "    \n",
    "</center>"
   ]
  },
  {
   "cell_type": "markdown",
   "metadata": {},
   "source": [
    "각 두가지 경우에 대한 미래 포트폴리오 가치는 다음과 같습니다."
   ]
  },
  {
   "cell_type": "markdown",
   "metadata": {},
   "source": [
    "|<span style=\"font-size: 15px\">$S_T=22$</span>|<span style=\"font-size: 15px\">$S_T=18$</span>|\n",
    "|:---:|:---:|\n",
    "|<span style=\"font-size: 15px\">$22\\Delta -Max[S_T-K, 0]=22\\Delta -1$</span>|<span style=\"font-size: 15px\">$18\\Delta - Max[S_T-K,0]=18\\Delta$</span>|\n",
    "\n",
    "미래 포트폴리오 가치가 $S_T$에 상관없이 항상 일정하기 위해서는 $22\\Delta-1=18\\Delta$이면 됩니다.\n",
    "이를 만족하는 $\\Delta=0.25$임을 알 수 있습니다.\n",
    "다음으로 우리는 이 포트폴리오를 구성하는 비용이 $- 20\\Delta +c^e$임을 알고 있습니다. 이때, 미래에 포트폴리오 수익은 항상 일정하므로 차익거래가 일어나지 않기 위해서는 **현재 포트폴리오 payoff+만기 포트폴리오 payoff=0**을 만족해야 합니다. 왜냐하면 이 포트폴리오는 아무런 위험을 가지고 있지 않기 때문입니다.($S_T$가 어떻게 변하든 이 포트폴리오의 수익은 항상 일정함을 기억합시다) 따라서 $$-20\\cdot0.25+c^e+(22\\cdot0.25-1)e^{-0.12\\cdot \\frac{1}{4}}=0$$을 만족하는 옵션 가격 $c^e$는 $$-5+c^e+4.5e^{-0.03}=0,\\ c^e=0.635$$라는 결론을 얻을 수 있습니다."
   ]
  },
  {
   "cell_type": "markdown",
   "metadata": {},
   "source": [
    "이를 일반화해보면 다음과 같이 나옵니다. 주가가 미래 오르는 비율을 $u$, 주가가 미래 떨어지는 비율을 $d$라고 하면 미래 주가는 $Su$, $Sd$로 나타납니다. 주가가 올랐을때의 옵션 가치를 $f_u$, 주가가 떨어졌을때의 옵션 가치를 $f_d$라고 해 봅시다. 동일하게 우리는 $\\Delta$만큼의 기초자산을 구매하고 1계약의 call을 매도하는 포트폴리오를 구축한다고 해보겠습니다.(행사가격은 만기 옵션 가치를 결정짓는데 이미 사용되었습니다.) 그러면 두가지 경우에 대한 미래 포트폴리오 가치는 다음과 같이 결정됩니다."
   ]
  },
  {
   "cell_type": "markdown",
   "metadata": {},
   "source": [
    "|<span style=\"font-size: 15px\">$S_T=Su$</span>|<span style=\"font-size: 15px\">$S_T=Sd$</span>|\n",
    "|:---:|:---:|\n",
    "|<span style=\"font-size: 15px\">$Su\\Delta -f_u$</span>|<span style=\"font-size: 15px\">$Sd\\Delta - f_d$</span>|"
   ]
  },
  {
   "cell_type": "markdown",
   "metadata": {},
   "source": [
    "여기서 미래 포트폴리오 가격을 $S_T$에 상관없이 일정하게 해 주는 $\\Delta$는 $$Su\\Delta -f_u=Sd\\Delta - f_d,\\ \\Delta=\\frac{f_u-f_d}{Su-Sd}$$가 됨을 알 수 있습니다.\n",
    "그리고 이를 바탕으로 옵션의 현재가치 $f$를 계산해보면 $$f-S\\Delta+(Su\\Delta-f_u)e^{-rT}=0,\\ f=S\\Delta-(Su\\Delta-f_u)e^{-rT}$$라는 결론을 얻을 수 있습니다."
   ]
  },
  {
   "cell_type": "markdown",
   "metadata": {},
   "source": [
    "위의 $$f=S\\Delta-(Sd\\Delta-f_d)e^{-rT}$$에 $$\\Delta=\\frac{f_u-f_d}{Su-Sd}$$를 넣어 정리해보면\n",
    "$$f=S\\Delta-(Sd\\Delta-f_d)e^{rT} \\newline =e^{-rT}(S\\Delta e^{rT}-Sd\\Delta+f_d) \\newline = e^{-rT}[S\\Delta(e^{rT}-d)+f_d] \\newline =e^{-rT}[S\\frac{f_u-f_d}{Su-Sd}(e^{rT}-d)+f_d] \\newline = e^{-rT}[\\frac{f_u-f_d}{u-d}(e^{rT}-d)+f_d] \\newline = e^{-rT}[\\frac{(e^{rT}-d)}{u-d}f_u+(1-\\frac{e^{rT}-d}{u-d})f_d]$$의 꼴을 갖게 됩니다. 여기서 $p\\equiv\\frac{e^{rT}-d}{u-d}$라고 정의하면 $$f=e^{-rT}[pf_u+(1-p)f_d]$$꼴이 됩니다. 즉, $p$가 마치 가격이 올라갈 확률처럼 행동하게 되며, 옵션의 가격이 미래 옵션의 기대가격의 현재가치꼴이 됩니다."
   ]
  },
  {
   "cell_type": "markdown",
   "metadata": {},
   "source": [
    "$ud=1$이라는 가정 하에 $u$와 $d$는 $$u=e^{\\sigma \\sqrt{\\Delta t}}, \\ d=e^{-\\sigma \\sqrt{\\Delta t}}$$로 계산할 수 있습니다."
   ]
  },
  {
   "cell_type": "markdown",
   "metadata": {},
   "source": [
    "## 3.6 블랙-숄즈 모형(Black–Scholes model)"
   ]
  },
  {
   "cell_type": "markdown",
   "metadata": {},
   "source": [
    "옵션 가격 결정 모델로 가장 유명한 모델인 블랙-숄즈 모형은 가격의 분포가 로그 정규분포(Log-normal distribution) 라는 가정에서 시작하는 옵션 가격결정모형입니다. "
   ]
  },
  {
   "cell_type": "markdown",
   "metadata": {},
   "source": [
    "European call option에 대한 블랙 숄즈 옵션가격은 다음과 같이 계산됩니다.\n",
    "\n",
    "$$ c^{e}  = S_t \\cdot N(d1) - K \\cdot e^{-r \\cdot T} \\cdot N(d2)$$\n",
    "\n",
    "European put option에 대한 블랙 숄즈 옵션가격은 다음과 같이 계산됩니다.\n",
    "\n",
    "\n",
    "$$p^{e} = K \\cdot e^{-r \\cdot T} \\cdot N(-d2) - S_t \\cdot N(-d1)$$\n",
    "\n",
    "여기서\n",
    "\n",
    "- $ c^{e} $는 이론적 European call option의 가격입니다.\n",
    "- $ p^{e} $는 이론적 European put option의 가격입니다.\n",
    "- $ S_t $ 는 현재 기초자산의 가격입니다.\n",
    "- $ K $ 는 옵션의 행사가격입니다.\n",
    "- $ r $ 는 무위험 이자율입니다.\n",
    "- $ T $ 는 연 단위로 표기한 만기까지 남은 기간입니다.\n",
    "- $ N $ 는 표준정규분포의 누적확률분포함수를 의미합니다.\n",
    "- $ d1 $와 $ d2 $는 다음과 같이 결정됩니다.\n",
    "\n",
    "$$d1 = \\frac{ ln(\\frac{S_t}{K}) + (r + \\frac{σ^{2}}{2}) \\cdot T}{ σ\\cdot \\sqrt{T}} \\newline d2 = d1 - σ \\cdot \\sqrt{T}$$\n",
    "\n",
    "여기서 $ σ $는 기초자산의 변동성입니다."
   ]
  },
  {
   "cell_type": "markdown",
   "metadata": {},
   "source": [
    "또한, $N(-d2)$는 european put option이 만기에 행사될 확률을 의미하며 $N(d2)$는 만기에서 european call option이 행사될 확률을 의미합니다."
   ]
  },
  {
   "cell_type": "markdown",
   "metadata": {},
   "source": [
    "# 4. 스왑"
   ]
  },
  {
   "cell_type": "markdown",
   "metadata": {},
   "source": [
    "스왑은 두 당사자가 각각 가지고 있는 미래 현금흐름을 일정기간 동안 교환하기로 계약하는 것을 의미합니다. 이 스왑이 발생하는 이유는 바로 비교우위입니다. 특히 스왑시장 초기에는 비교우위가 반드시 필요했습니다. 하지만 최근에는 비교우위가 전제조건이 아닌 경우도 발생하고 있습니다.\n"
   ]
  },
  {
   "cell_type": "markdown",
   "metadata": {},
   "source": [
    "스왑에는 일반적으로 \n",
    "1. 금리스왑 : 교환계약의 당사자 사이에 일정기간 동안 서로가 부담하는 금리를 상대방과 교환하는 계약이며, 스왑계약에서 가장 흔한 계약입니다.\n",
    "2. 통화스왑 : 서로 다른 통화(이종통화)를 차입한 두 당사자가 그 이종통화의 차입채무(원금 및 이자)를 맞교환하는 것을 의미합니다.\n",
    "3. 외환스왑 : 서로 다른 통화에 대해 선물과 현물을 동시애 반대방향으로 매매하는 계약을 말합니다."
   ]
  },
  {
   "cell_type": "markdown",
   "metadata": {},
   "source": [
    "특히 금리 스왑이 진행될 때는 두가지 적용금리를 다룹니다.\n",
    "1. 고정금리 : 대출 실행 시 결정된 금리가 대출만기일까지 고정되어 있는 금리를 말합니다.\n",
    "2. 변동금리 : 일정 주기마다 대출 기준금리 변동에 따라 대출금리가 변동하는 금리를 말합니다.(일반적으로 LIBOR금리를 사용합니다)"
   ]
  },
  {
   "cell_type": "markdown",
   "metadata": {},
   "source": [
    "우선, A 은행은 고정금리 5.7% 및 변동금리 L(LIBOR)로 대출을 받을 수 있으며, B 은행은 고정금리 6.5% 및 변동금리 L+0.4%로 대출을 받을 수 있다고 해 봅시다. \n",
    "\n",
    "|<span style=\"font-size: 15px\">구분</span>|<span style=\"font-size: 15px\">A 은행</span>|<span style=\"font-size: 15px\">B 은행</span>|\n",
    "|:---:|:---:|:---:|\n",
    "|<span style=\"font-size: 15px\"> 고정금리</span>|<span style=\"font-size: 15px\">5.7%</span>|<span style=\"font-size: 15px\">6.5%</span>|\n",
    "|<span style=\"font-size: 15px\"> 변동금리</span>|<span style=\"font-size: 15px\">L</span>|<span style=\"font-size: 15px\">L+0.4%</span>|"
   ]
  },
  {
   "cell_type": "markdown",
   "metadata": {},
   "source": [
    "<center>\n",
    "    \n",
    "<img src=\"./image/스왑.png\" width=\"800px\" height=\"400px\">\n",
    "    \n",
    "</center>"
   ]
  },
  {
   "cell_type": "markdown",
   "metadata": {},
   "source": [
    "위 사진에서, A 은행은 고정금리로 대출을 받고 B 은행은 변동금리로 대출을 받고 있습니다. A 은행은 5.7%의 고정금리로 대출을 받았고, B 은행은 L(LIBOR)+0.4% 변동금리로 대출받았다고 가정해봅시다. 그리고 스왑 계약을 통해 A 은행은 5.9%로 B 은행에게 대출해주고, B 은행은 L 금리로 A 은행에게 대출해줬다고 가정해봅시다. 이 경우\n",
    "\n",
    "A 은행 : -5.7%+5.9%-L = -L+0.2% 이므로 L-0.2%에 대출을 받은 것과 마찬가지이기에 0.2% 이익을 봤습니다.\n",
    "B 은행 : -L-0.4%+L-5.9%=-6.3%이므로 6.3%에 대출을 받은 것과 마찬가지이기에 0.2% 이익을 봤습니다.\n",
    "\n",
    "이러한 형태가 가장 대표적인 형태의 스왑인 금리 스왑입니다."
   ]
  }
 ],
 "metadata": {
  "kernelspec": {
   "display_name": "Python 3",
   "language": "python",
   "name": "python3"
  },
  "language_info": {
   "codemirror_mode": {
    "name": "ipython",
    "version": 3
   },
   "file_extension": ".py",
   "mimetype": "text/x-python",
   "name": "python",
   "nbconvert_exporter": "python",
   "pygments_lexer": "ipython3",
   "version": "3.8.5"
  }
 },
 "nbformat": 4,
 "nbformat_minor": 4
}
